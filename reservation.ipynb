{
 "cells": [
  {
   "cell_type": "markdown",
   "id": "80cb14cf-b10f-45fa-97dd-39a2c5b8f70a",
   "metadata": {},
   "source": [
    "# Reservations\n",
    "- To add a reservation, use the function **add_reservation(employee_id, building_id, seat_id, date_str, df).** Make sure to save assign the function to a variable.\n",
    "\n",
    "- To remove a reservation, use the function **remove_reservation(reservation_id).**\n",
    "\n",
    "- To get the available seats on a given day in a specific building, use the function **get_free_seats_in_building_on_day(building_id, date_str)**. Make sure that the date is written as a string.\n",
    "\n",
    "- Use **get_seats_in_building(building_id)** to get a list of all the seats in a specific building. \n",
    "\n",
    "- To get a list of the reserved seats, use **get_reserved_seats().**\n",
    "\n",
    "- Use **get_amount_of_free_eats(building_id, date_str)** to get the amount of empty seats on a given day in a building."
   ]
  },
  {
   "cell_type": "code",
   "execution_count": 41,
   "id": "2ce89294-3040-4b44-805c-309f679f5195",
   "metadata": {},
   "outputs": [],
   "source": [
    "import pandas as pd\n",
    "\n",
    "# Create a reservation DataFrame\n",
    "\n",
    "df = pd.DataFrame()\n",
    "df\n",
    "\n",
    "# Add columns to df\n",
    "\n",
    "df['reservation_id'] = []\n",
    "df['employee_id'] = []\n",
    "df['building_id'] = []\n",
    "df['date'] = []\n",
    "df['seat_id'] = []\n",
    "\n",
    "df = pd.DataFrame(columns=[\"reservation_id\", \"employee_id\", \"building_id\", \"seat_id\", \"date\"], dtype=object)\n",
    "df['date'] = pd.to_datetime(df['date'])\n",
    "\n",
    "# Save the dataframe\n",
    "df.to_csv('reservation_data.csv', index=False)\n"
   ]
  },
  {
   "cell_type": "code",
   "execution_count": 42,
   "id": "287a093d-887d-4938-8179-61e1933bfc61",
   "metadata": {},
   "outputs": [],
   "source": [
    "def load_reservation_dataframe():\n",
    "    df = pd.read_csv('reservation_data.csv')\n",
    "    return "
   ]
  },
  {
   "cell_type": "code",
   "execution_count": 295,
   "id": "0686b2db-88a6-4506-9d5d-e2949b57d0a0",
   "metadata": {},
   "outputs": [],
   "source": [
    "# Create new reservation entry\n",
    "\n",
    "from datetime import datetime\n",
    "\n",
    "def add_reservation(employee_id, building_id, seat_id, date_str, df):\n",
    "    \n",
    "    # Assign value to reservation_id\n",
    "    if 'reservation_id' in df.columns and not df['reservation_id'].empty:\n",
    "        reservation_id = df['reservation_id'].max() + 1\n",
    "    else:\n",
    "        reservation_id = 1  # Start with 1 when there are no reservations\n",
    "        \n",
    "\n",
    "    date = datetime.strptime(date_str, '%Y-%m-%d').date()\n",
    "\n",
    "    new_reservation = {\"reservation_id\" : reservation_id + 1, \"employee_id\" : employee_id, \"building_id\" : building_id, \"seat_id\" : seat_id, \"date\" : date}\n",
    "    df = df.append(new_reservation, ignore_index=True)\n",
    "    print(\"New reservation for \" + str(date) + \" in building \" + str(building_id) + \" added.\")\n",
    "\n",
    "    df.to_csv('reservation_data.csv', index=False)\n",
    "\n",
    "    return df\n",
    "\n",
    "# Add that it cannot add a reservation when the desk is already reserved.\n"
   ]
  },
  {
   "cell_type": "code",
   "execution_count": 341,
   "id": "49d14490-ac8d-42d1-b928-ebf4aeb6ef45",
   "metadata": {},
   "outputs": [
    {
     "name": "stdout",
     "output_type": "stream",
     "text": [
      "New reservation for 2023-09-08 in building 2 added.\n"
     ]
    },
    {
     "name": "stderr",
     "output_type": "stream",
     "text": [
      "/var/folders/dc/4k96f9j914j0s0wqydygndhr0000gn/T/ipykernel_70016/2307646675.py:17: FutureWarning: The frame.append method is deprecated and will be removed from pandas in a future version. Use pandas.concat instead.\n",
      "  df = df.append(new_reservation, ignore_index=True)\n"
     ]
    }
   ],
   "source": [
    "df = add_reservation(325, 2, 12, \"2023-09-08\", df)"
   ]
  },
  {
   "cell_type": "code",
   "execution_count": 304,
   "id": "97fc3a84-530a-49a8-a4b0-8be6887e609c",
   "metadata": {},
   "outputs": [
    {
     "data": {
      "text/html": [
       "<div>\n",
       "<style scoped>\n",
       "    .dataframe tbody tr th:only-of-type {\n",
       "        vertical-align: middle;\n",
       "    }\n",
       "\n",
       "    .dataframe tbody tr th {\n",
       "        vertical-align: top;\n",
       "    }\n",
       "\n",
       "    .dataframe thead th {\n",
       "        text-align: right;\n",
       "    }\n",
       "</style>\n",
       "<table border=\"1\" class=\"dataframe\">\n",
       "  <thead>\n",
       "    <tr style=\"text-align: right;\">\n",
       "      <th></th>\n",
       "      <th>reservation_id</th>\n",
       "      <th>employee_id</th>\n",
       "      <th>building_id</th>\n",
       "      <th>seat_id</th>\n",
       "      <th>date</th>\n",
       "    </tr>\n",
       "  </thead>\n",
       "  <tbody>\n",
       "    <tr>\n",
       "      <th>0</th>\n",
       "      <td>1</td>\n",
       "      <td>234</td>\n",
       "      <td>3</td>\n",
       "      <td>25</td>\n",
       "      <td>2023-09-04</td>\n",
       "    </tr>\n",
       "    <tr>\n",
       "      <th>1</th>\n",
       "      <td>2</td>\n",
       "      <td>234</td>\n",
       "      <td>3</td>\n",
       "      <td>3</td>\n",
       "      <td>2023-09-04</td>\n",
       "    </tr>\n",
       "    <tr>\n",
       "      <th>2</th>\n",
       "      <td>4</td>\n",
       "      <td>325</td>\n",
       "      <td>2</td>\n",
       "      <td>332</td>\n",
       "      <td>2023-09-02</td>\n",
       "    </tr>\n",
       "    <tr>\n",
       "      <th>3</th>\n",
       "      <td>6</td>\n",
       "      <td>325</td>\n",
       "      <td>2</td>\n",
       "      <td>33232</td>\n",
       "      <td>2023-09-02</td>\n",
       "    </tr>\n",
       "    <tr>\n",
       "      <th>4</th>\n",
       "      <td>8</td>\n",
       "      <td>325</td>\n",
       "      <td>2</td>\n",
       "      <td>12</td>\n",
       "      <td>2023-09-07</td>\n",
       "    </tr>\n",
       "  </tbody>\n",
       "</table>\n",
       "</div>"
      ],
      "text/plain": [
       "  reservation_id employee_id building_id seat_id        date\n",
       "0              1         234           3      25  2023-09-04\n",
       "1              2         234           3       3  2023-09-04\n",
       "2              4         325           2     332  2023-09-02\n",
       "3              6         325           2   33232  2023-09-02\n",
       "4              8         325           2      12  2023-09-07"
      ]
     },
     "execution_count": 304,
     "metadata": {},
     "output_type": "execute_result"
    }
   ],
   "source": [
    "df"
   ]
  },
  {
   "cell_type": "code",
   "execution_count": 270,
   "id": "d4003fd8-33c9-4a5c-b578-465b06d5f4cb",
   "metadata": {},
   "outputs": [],
   "source": [
    "import pandas as pd\n",
    "from datetime import datetime\n",
    "\n",
    "def get_seats_in_building(building_id):\n",
    "    \n",
    "    # Load data frame with seats\n",
    "    df_seats = pd.read_csv('seat_data.csv')\n",
    "    \n",
    "    # Filter all seats in the specified building\n",
    "    seats_in_building = df_seats[(df_seats['building_id'] == building_id)]\n",
    "\n",
    "    \n",
    "    if not seats_in_building.empty:\n",
    "        \n",
    "        # Create list with seats in specified building\n",
    "        seat_in_building_list = []\n",
    "        seat_in_building_list.append(seats_in_building[\"seat_id\"])\n",
    "        seat_in_building_list = seats_in_building['seat_id'].tolist()\n",
    "            \n",
    "        return seat_in_building_list\n",
    "    else:\n",
    "        print(f\"No seats found in Building {building_id} on {date}.\")\n",
    "        return None"
   ]
  },
  {
   "cell_type": "code",
   "execution_count": 348,
   "id": "22afd438-e5a0-4451-990a-db71deb33c54",
   "metadata": {},
   "outputs": [
    {
     "name": "stdout",
     "output_type": "stream",
     "text": [
      "[10.0, 11.0, 12.0, 13.0, 14.0]\n"
     ]
    }
   ],
   "source": [
    "result = get_seats_in_building(2)\n",
    "\n",
    "if result is not None:\n",
    "    print(result)"
   ]
  },
  {
   "cell_type": "code",
   "execution_count": 274,
   "id": "843ca44d-675a-4ba1-b457-5be64f0452b3",
   "metadata": {},
   "outputs": [],
   "source": [
    "def get_reserved_seats():\n",
    "    \n",
    "    # Load data frame with reservations\n",
    "    df_reservations = pd.read_csv('reservation_data.csv')\n",
    "    \n",
    "    # Get all the reserved seats\n",
    "    reserved_seats = df_reservations[\"seat_id\"]\n",
    "\n",
    "    return reserved_seats.tolist()"
   ]
  },
  {
   "cell_type": "code",
   "execution_count": 275,
   "id": "dc8ce5fe-b6cc-47c2-a0bf-c4c78d292dd6",
   "metadata": {},
   "outputs": [
    {
     "data": {
      "text/plain": [
       "[25, 3, 18]"
      ]
     },
     "execution_count": 275,
     "metadata": {},
     "output_type": "execute_result"
    }
   ],
   "source": [
    "get_reserved_seats()"
   ]
  },
  {
   "cell_type": "code",
   "execution_count": 387,
   "id": "629ee679-1e6b-4d18-8444-98dadef6d3ca",
   "metadata": {},
   "outputs": [],
   "source": [
    "def get_free_seats_in_building_on_day_1(building_id, date_str):\n",
    "            \n",
    "    df_reservations = pd.read_csv('reservation_data.csv')\n",
    "    \n",
    "    # Get all the reserved seats\n",
    "    all_reserved_seats = get_reserved_seats()\n",
    "    \n",
    "    # Get all the seats in the building\n",
    "    seats_in_building = get_seats_in_building(building_id)\n",
    "    \n",
    "    reserved_seats_building = []\n",
    "    \n",
    "    free_seats = []\n",
    "    \n",
    "    # Get all reserved seats in the specified building\n",
    "        \n",
    "    reserved_seats_for_date = set()\n",
    "    \n",
    "    # Iterate through all seats in the building\n",
    "    for seat in seats_in_building:\n",
    "        # Check if any reservation for the seat on the specified date exists\n",
    "        reservations_for_seat_on_date = df_reservations[(df_reservations['seat_id'] == seat) & (df_reservations['date'] == date_str)]\n",
    "        \n",
    "        if seat not in all_reserved_seats or reservations_for_seat_on_date.empty:\n",
    "            free_seats.append(seat)\n",
    "        else:\n",
    "            reserved_seats_for_date.add(seat)\n",
    "\n",
    "    \n",
    "    # Get the date of the reserved seats in the specified building\n",
    "    for seat in reserved_seats_building:\n",
    "        \n",
    "        # Get the date of seat\n",
    "        date = df_reservations.loc[df_reservations['seat_id'] == seat, 'date'].values[0]\n",
    "        date = datetime.strptime(date, '%Y-%m-%d').date()\n",
    "        \n",
    "        # if the date of reserved seat in specified building is equal to new reservation date\n",
    "        input_date = datetime.strptime(date_str, '%Y-%m-%d').date()\n",
    "            \n",
    "        if date != input_date:\n",
    "\n",
    "            free_seats.append(float(seat))\n",
    "    \n",
    "    free_seats_sorted = sorted(free_seats)\n",
    "    \n",
    "    return free_seats_sorted"
   ]
  },
  {
   "cell_type": "code",
   "execution_count": 388,
   "id": "1b8a54e0-d7e9-4d98-8c61-e5d9eab20d0a",
   "metadata": {},
   "outputs": [
    {
     "data": {
      "text/plain": [
       "[0.0, 1.0, 2.0, 4.0, 5.0, 6.0, 7.0, 8.0, 9.0]"
      ]
     },
     "execution_count": 388,
     "metadata": {},
     "output_type": "execute_result"
    }
   ],
   "source": [
    "get_free_seats_in_building_on_day_1(1, \"2023-09-04\")"
   ]
  },
  {
   "cell_type": "code",
   "execution_count": 335,
   "id": "bf10cbc7-69a5-44e8-9b02-4cb80adf261b",
   "metadata": {},
   "outputs": [],
   "source": [
    "def remove_reservation(reservation_id):\n",
    "    \n",
    "    df_reservations = pd.read_csv('reservation_data.csv')\n",
    "        \n",
    "    is_id_in_dataframe = reservation_id in df_reservations['reservation_id'].values\n",
    "    \n",
    "    df_reservations = df_reservations.drop(df_reservations[df_reservations['reservation_id'] == reservation_id].index)\n",
    "    df_reservations.to_csv('reservation_data.csv', index=False)\n",
    "    \n",
    "    if is_id_in_dataframe:\n",
    "        print(\"The reservation with the ID: \" + str(reservation_id) + \" has been removed.\")\n",
    "    else:\n",
    "        print(\"The entered ID: \" + str(reservation_id) + \" has not been been found.\")"
   ]
  },
  {
   "cell_type": "code",
   "execution_count": 339,
   "id": "9fae2193-e26e-4dd2-a6e3-00b49f9d6f24",
   "metadata": {},
   "outputs": [
    {
     "name": "stdout",
     "output_type": "stream",
     "text": [
      "The entered ID: 3 has not been been found.\n"
     ]
    }
   ],
   "source": [
    "remove_reservation(3)"
   ]
  },
  {
   "cell_type": "code",
   "execution_count": null,
   "id": "5017fde2-d4b9-410a-9933-adf2f6807ee7",
   "metadata": {},
   "outputs": [],
   "source": [
    "# def get_free_seats_in_building_on_day(building_id, date_str):\n",
    "    \n",
    "#     # Get all the reserved seats\n",
    "#     all_reserved_seats = get_reserved_seats()\n",
    "    \n",
    "#     # Get all the seats in the building\n",
    "#     seats_in_building = get_seats_in_building(building_id)\n",
    "    \n",
    "#     reserved_seats_building = []\n",
    "    \n",
    "#     free_seats = []\n",
    "    \n",
    "#     # Get all reserved seats in the specified building\n",
    "#     for seat in all_reserved_seats:\n",
    "#         if seat in seats_in_building:\n",
    "    \n",
    "#             reserved_seats_building.append(seat)\n",
    "        \n",
    "#     # Get all not reserved seats in the specified building\n",
    "#     for seat in seats_in_building:\n",
    "#         if not seat in all_reserved_seats:\n",
    "#             free_seats.append(seat)\n",
    "            \n",
    "#     df_reservations = pd.read_csv('reservation_data.csv')\n",
    "    \n",
    "#     # Get the date of the reserved seats in the specified building\n",
    "#     for seat in reserved_seats_building:\n",
    "        \n",
    "#         # Get the date of seat\n",
    "#         date = df_reservations.loc[df_reservations['seat_id'] == seat, 'date'].values[0]\n",
    "#         date = datetime.strptime(date, '%Y-%m-%d').date()\n",
    "        \n",
    "#         # if the date of reserved seat in specified building is equal to new reservation date\n",
    "#         input_date = datetime.strptime(date_str, '%Y-%m-%d').date()\n",
    "            \n",
    "#         if date != input_date:\n",
    "\n",
    "#             free_seats.append(float(seat))\n",
    "    \n",
    "#     free_seats_sorted = sorted(free_seats)\n",
    "    \n",
    "#     return free_seats_sorted"
   ]
  },
  {
   "cell_type": "code",
   "execution_count": 395,
   "id": "0e93365f-b119-417a-bd62-fee0bc8399ef",
   "metadata": {},
   "outputs": [],
   "source": [
    "def get_amount_of_free_seats(building_id, date_str):\n",
    "    \n",
    "    date = datetime.strptime(date_str, '%Y-%m-%d').date()\n",
    "    empty_seats = get_free_seats_in_building_on_day_1(building_id, date_str)\n",
    "\n",
    "    return print(str(len(empty_seats)) + \" seats left.\")"
   ]
  },
  {
   "cell_type": "code",
   "execution_count": 397,
   "id": "1367168e-d4ab-47cc-af92-19a61fd85fe3",
   "metadata": {},
   "outputs": [
    {
     "name": "stdout",
     "output_type": "stream",
     "text": [
      "10 seats left.\n"
     ]
    }
   ],
   "source": [
    "get_amount_of_free_seats(1, \"2023-09-05\")"
   ]
  },
  {
   "cell_type": "code",
   "execution_count": null,
   "id": "8a12b12b-3c3c-497d-9928-5e2b24bc8f35",
   "metadata": {},
   "outputs": [],
   "source": []
  }
 ],
 "metadata": {
  "kernelspec": {
   "display_name": "Python 3 (ipykernel)",
   "language": "python",
   "name": "python3"
  },
  "language_info": {
   "codemirror_mode": {
    "name": "ipython",
    "version": 3
   },
   "file_extension": ".py",
   "mimetype": "text/x-python",
   "name": "python",
   "nbconvert_exporter": "python",
   "pygments_lexer": "ipython3",
   "version": "3.9.12"
  }
 },
 "nbformat": 4,
 "nbformat_minor": 5
}
